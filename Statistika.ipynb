{
 "cells": [
  {
   "cell_type": "markdown",
   "metadata": {},
   "source": [
    "# Statistika Python "
   ]
  },
  {
   "cell_type": "markdown",
   "metadata": {},
   "source": [
    "### Menghitung MEAN/Rata - rata"
   ]
  },
  {
   "cell_type": "code",
   "execution_count": null,
   "metadata": {},
   "outputs": [],
   "source": [
    "import numpy as np \n",
    "def masukkanBatas(batas):\n",
    "    array = []\n",
    "    while len(array) <batas:\n",
    "        nilai = input(\"Masukkan Nilai,lalu klik enter :\")\n",
    "        if nilai.lower() == 'done':\n",
    "            if len(array) < 2 :\n",
    "                print(\"Minimal ada 2 nilai diperlukan\")\n",
    "                continue\n",
    "            else:\n",
    "                break\n",
    "        try:\n",
    "            nilai = float(nilai)\n",
    "            array.append(nilai)\n",
    "        except ValueError :\n",
    "            print(\"Masukkan tidak valid,Masukkan angka atau ketik 'done' untuk mengakhiri\")\n",
    "            return array\n",
    "print(\"Selamat datang di Kalkulator Statistika : \")\n",
    "batas = int(input(\"Masukkan batas Jumlah nilai yang akan dimasukkan :\"))\n",
    "data = masukkanBatas(batas)\n",
    "\n",
    "if data :\n",
    "    print(\"Hasil :\")"
   ]
  }
 ],
 "metadata": {
  "kernelspec": {
   "display_name": ".venv",
   "language": "python",
   "name": "python3"
  },
  "language_info": {
   "codemirror_mode": {
    "name": "ipython",
    "version": 3
   },
   "file_extension": ".py",
   "mimetype": "text/x-python",
   "name": "python",
   "nbconvert_exporter": "python",
   "pygments_lexer": "ipython3",
   "version": "3.12.0"
  }
 },
 "nbformat": 4,
 "nbformat_minor": 2
}
